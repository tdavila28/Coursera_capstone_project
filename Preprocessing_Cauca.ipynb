{
  "nbformat": 4,
  "nbformat_minor": 0,
  "metadata": {
    "colab": {
      "provenance": [],
      "authorship_tag": "ABX9TyNok1w737K6OWdc0b4+ytQm",
      "include_colab_link": true
    },
    "kernelspec": {
      "name": "python3",
      "display_name": "Python 3"
    },
    "language_info": {
      "name": "python"
    }
  },
  "cells": [
    {
      "cell_type": "markdown",
      "metadata": {
        "id": "view-in-github",
        "colab_type": "text"
      },
      "source": [
        "<a href=\"https://colab.research.google.com/github/tdavila28/Coursera_capstone_project/blob/main/Preprocessing_Cauca.ipynb\" target=\"_parent\"><img src=\"https://colab.research.google.com/assets/colab-badge.svg\" alt=\"Open In Colab\"/></a>"
      ]
    },
    {
      "cell_type": "markdown",
      "source": [
        "#Lectura y procesamiento de archivos Argelia_Cauca"
      ],
      "metadata": {
        "id": "34GmHRsFQeKv"
      }
    },
    {
      "cell_type": "markdown",
      "source": [
        "#Librerias e instalación de herramientas"
      ],
      "metadata": {
        "id": "Gpm1WaBqQW6Q"
      }
    },
    {
      "cell_type": "code",
      "execution_count": null,
      "metadata": {
        "id": "nO55Um-ZD3ZV"
      },
      "outputs": [],
      "source": [
        "!pip install geopandas\n"
      ]
    },
    {
      "cell_type": "code",
      "source": [
        "import osgeo\n",
        "import geopandas as gp\n",
        "import numpy as np"
      ],
      "metadata": {
        "id": "W-bmAUFuEKch"
      },
      "execution_count": null,
      "outputs": []
    },
    {
      "cell_type": "code",
      "source": [
        "from google.colab import drive\n",
        "drive.mount('/content/drive')"
      ],
      "metadata": {
        "colab": {
          "base_uri": "https://localhost:8080/"
        },
        "id": "Gnil8RHYFFr6",
        "outputId": "67e3aba9-3f70-4bde-ac66-d0a18e7c48a6"
      },
      "execution_count": null,
      "outputs": [
        {
          "output_type": "stream",
          "name": "stdout",
          "text": [
            "Mounted at /content/drive\n"
          ]
        }
      ]
    },
    {
      "cell_type": "markdown",
      "source": [
        "#Carga y lectura de Shapes"
      ],
      "metadata": {
        "id": "TPkG96MwQQFn"
      }
    },
    {
      "cell_type": "code",
      "source": [
        "buffer25m=gp.read_file(\"/content/drive/MyDrive/Argelia/Argelia_buffer_25m.shp\")\n",
        "paramos=gp.read_file(\"/content/drive/MyDrive/Argelia/Amb_Paramos_Arg.shp\")"
      ],
      "metadata": {
        "id": "NSRKFPPNERTg"
      },
      "execution_count": null,
      "outputs": []
    },
    {
      "cell_type": "code",
      "source": [
        "Amb_humedal=gp.read_file(\"/content/drive/MyDrive/Argelia/Amb_Humedales_Arg.shp\")\n",
        "Amb_RAMSAR=gp.read_file(\"/content/drive/MyDrive/Argelia/Amb_Humedal_RAMSAR_Arg.shp\")\n",
        "Amb_RUNAP=gp.read_file(\"/content/drive/MyDrive/Argelia/Amb_RUNAP_Arg.shp\")\n",
        "Amb_reservas_ley2=gp.read_file(\"/content/drive/MyDrive/Argelia/Reservas_ley_2da_Arg.shp\")\n"
      ],
      "metadata": {
        "id": "qkb-5Ar9JSRu"
      },
      "execution_count": null,
      "outputs": []
    },
    {
      "cell_type": "code",
      "source": [
        "Via=gp.read_file(\"/content/drive/MyDrive/Argelia/via_Argelia.shp\")\n",
        "Drenaje_sencillo=gp.read_file(\"/content/drive/MyDrive/Argelia/Drenaje_sencillo_Arg.shp\")\n",
        "Drenaje_doble=gp.read_file(\"/content/drive/MyDrive/Argelia/drenaje_doble_Arg.shp\")"
      ],
      "metadata": {
        "id": "Wa8ADmDUJVfO"
      },
      "execution_count": null,
      "outputs": []
    },
    {
      "cell_type": "code",
      "source": [
        "Cobertura_2018=gp.read_file(\"/content/drive/MyDrive/Argelia/coberturas_2018_Arg.shp\")\n",
        "Cobertura_2010_2012=gp.read_file(\"/content/drive/MyDrive/Argelia/cobertura_2010-2012_Arg.shp\")\n",
        "Cobertura_2005_2009=gp.read_file(\"/content/drive/MyDrive/Argelia/cobertura_2005_2009_Arg.shp\")\n",
        "Cobertura_2000_2002=gp.read_file(\"/content/drive/MyDrive/Argelia/cobertura_2000_2002_Arg.shp\")\n"
      ],
      "metadata": {
        "id": "PdyMrOs2JYkG"
      },
      "execution_count": null,
      "outputs": []
    },
    {
      "cell_type": "code",
      "source": [
        "Zona_Reserva_Campesina=gp.read_file(\"/content/drive/MyDrive/Argelia/zona_reserva_campesina_Argelia.shp\")\n",
        "Comunidades_negras=gp.read_file(\"/content/drive/MyDrive/Argelia/comunidades_negras_Arg.shp\")\n",
        "Resguardo_Indigena_=gp.read_file(\"/content/drive/MyDrive/Argelia/resguardos_legalizados_Arg.shp\")\n",
        "centro_poblado_mascabeceras=gp.read_file(\"/content/drive/MyDrive/Argelia/cent_Pob_mas_cabeceras_Arg.shp\")"
      ],
      "metadata": {
        "id": "r87_-zFiJalM"
      },
      "execution_count": null,
      "outputs": []
    },
    {
      "cell_type": "code",
      "source": [
        "paramos.head()"
      ],
      "metadata": {
        "colab": {
          "base_uri": "https://localhost:8080/",
          "height": 280
        },
        "id": "HkOOcPvwQyrs",
        "outputId": "222a82a2-4041-4af1-bd11-f82673a18baa"
      },
      "execution_count": null,
      "outputs": [
        {
          "output_type": "execute_result",
          "data": {
            "text/plain": [
              "       Id          Nombre   Escala  \\\n",
              "0  PD_034  Cerro Plateado  100.000   \n",
              "1  PD_034  Cerro Plateado  100.000   \n",
              "\n",
              "                                    Acto_Admin  Fecha_Acto  No_Poligon  \\\n",
              "0  ResoluciÃ³n No. 1503 de 6 de Agosto de 2018  2018-08-06         0.0   \n",
              "1  ResoluciÃ³n No. 1503 de 6 de Agosto de 2018  2018-08-06         0.0   \n",
              "\n",
              "        Fuente       Area_Ha  Fecha_Ingr  Fecha_Reco  Shape_Leng  \\\n",
              "0  Minambiente    943.487640  2020-07-22  2020-06-30    0.268966   \n",
              "1  Minambiente  16126.849888  2020-07-22  2020-06-30    2.223711   \n",
              "\n",
              "      Shape_Le_1    Shape_Area  \\\n",
              "0   29868.933022  9.442241e+06   \n",
              "1  247144.647561  1.614172e+08   \n",
              "\n",
              "                                            geometry  \n",
              "0  POLYGON ((4538999.029 1820813.992, 4538998.931...  \n",
              "1  MULTIPOLYGON (((4519856.163 1800139.812, 45198...  "
            ],
            "text/html": [
              "\n",
              "  <div id=\"df-cd31f40c-c468-4419-98ab-f312bc90f223\">\n",
              "    <div class=\"colab-df-container\">\n",
              "      <div>\n",
              "<style scoped>\n",
              "    .dataframe tbody tr th:only-of-type {\n",
              "        vertical-align: middle;\n",
              "    }\n",
              "\n",
              "    .dataframe tbody tr th {\n",
              "        vertical-align: top;\n",
              "    }\n",
              "\n",
              "    .dataframe thead th {\n",
              "        text-align: right;\n",
              "    }\n",
              "</style>\n",
              "<table border=\"1\" class=\"dataframe\">\n",
              "  <thead>\n",
              "    <tr style=\"text-align: right;\">\n",
              "      <th></th>\n",
              "      <th>Id</th>\n",
              "      <th>Nombre</th>\n",
              "      <th>Escala</th>\n",
              "      <th>Acto_Admin</th>\n",
              "      <th>Fecha_Acto</th>\n",
              "      <th>No_Poligon</th>\n",
              "      <th>Fuente</th>\n",
              "      <th>Area_Ha</th>\n",
              "      <th>Fecha_Ingr</th>\n",
              "      <th>Fecha_Reco</th>\n",
              "      <th>Shape_Leng</th>\n",
              "      <th>Shape_Le_1</th>\n",
              "      <th>Shape_Area</th>\n",
              "      <th>geometry</th>\n",
              "    </tr>\n",
              "  </thead>\n",
              "  <tbody>\n",
              "    <tr>\n",
              "      <th>0</th>\n",
              "      <td>PD_034</td>\n",
              "      <td>Cerro Plateado</td>\n",
              "      <td>100.000</td>\n",
              "      <td>ResoluciÃ³n No. 1503 de 6 de Agosto de 2018</td>\n",
              "      <td>2018-08-06</td>\n",
              "      <td>0.0</td>\n",
              "      <td>Minambiente</td>\n",
              "      <td>943.487640</td>\n",
              "      <td>2020-07-22</td>\n",
              "      <td>2020-06-30</td>\n",
              "      <td>0.268966</td>\n",
              "      <td>29868.933022</td>\n",
              "      <td>9.442241e+06</td>\n",
              "      <td>POLYGON ((4538999.029 1820813.992, 4538998.931...</td>\n",
              "    </tr>\n",
              "    <tr>\n",
              "      <th>1</th>\n",
              "      <td>PD_034</td>\n",
              "      <td>Cerro Plateado</td>\n",
              "      <td>100.000</td>\n",
              "      <td>ResoluciÃ³n No. 1503 de 6 de Agosto de 2018</td>\n",
              "      <td>2018-08-06</td>\n",
              "      <td>0.0</td>\n",
              "      <td>Minambiente</td>\n",
              "      <td>16126.849888</td>\n",
              "      <td>2020-07-22</td>\n",
              "      <td>2020-06-30</td>\n",
              "      <td>2.223711</td>\n",
              "      <td>247144.647561</td>\n",
              "      <td>1.614172e+08</td>\n",
              "      <td>MULTIPOLYGON (((4519856.163 1800139.812, 45198...</td>\n",
              "    </tr>\n",
              "  </tbody>\n",
              "</table>\n",
              "</div>\n",
              "      <button class=\"colab-df-convert\" onclick=\"convertToInteractive('df-cd31f40c-c468-4419-98ab-f312bc90f223')\"\n",
              "              title=\"Convert this dataframe to an interactive table.\"\n",
              "              style=\"display:none;\">\n",
              "        \n",
              "  <svg xmlns=\"http://www.w3.org/2000/svg\" height=\"24px\"viewBox=\"0 0 24 24\"\n",
              "       width=\"24px\">\n",
              "    <path d=\"M0 0h24v24H0V0z\" fill=\"none\"/>\n",
              "    <path d=\"M18.56 5.44l.94 2.06.94-2.06 2.06-.94-2.06-.94-.94-2.06-.94 2.06-2.06.94zm-11 1L8.5 8.5l.94-2.06 2.06-.94-2.06-.94L8.5 2.5l-.94 2.06-2.06.94zm10 10l.94 2.06.94-2.06 2.06-.94-2.06-.94-.94-2.06-.94 2.06-2.06.94z\"/><path d=\"M17.41 7.96l-1.37-1.37c-.4-.4-.92-.59-1.43-.59-.52 0-1.04.2-1.43.59L10.3 9.45l-7.72 7.72c-.78.78-.78 2.05 0 2.83L4 21.41c.39.39.9.59 1.41.59.51 0 1.02-.2 1.41-.59l7.78-7.78 2.81-2.81c.8-.78.8-2.07 0-2.86zM5.41 20L4 18.59l7.72-7.72 1.47 1.35L5.41 20z\"/>\n",
              "  </svg>\n",
              "      </button>\n",
              "      \n",
              "  <style>\n",
              "    .colab-df-container {\n",
              "      display:flex;\n",
              "      flex-wrap:wrap;\n",
              "      gap: 12px;\n",
              "    }\n",
              "\n",
              "    .colab-df-convert {\n",
              "      background-color: #E8F0FE;\n",
              "      border: none;\n",
              "      border-radius: 50%;\n",
              "      cursor: pointer;\n",
              "      display: none;\n",
              "      fill: #1967D2;\n",
              "      height: 32px;\n",
              "      padding: 0 0 0 0;\n",
              "      width: 32px;\n",
              "    }\n",
              "\n",
              "    .colab-df-convert:hover {\n",
              "      background-color: #E2EBFA;\n",
              "      box-shadow: 0px 1px 2px rgba(60, 64, 67, 0.3), 0px 1px 3px 1px rgba(60, 64, 67, 0.15);\n",
              "      fill: #174EA6;\n",
              "    }\n",
              "\n",
              "    [theme=dark] .colab-df-convert {\n",
              "      background-color: #3B4455;\n",
              "      fill: #D2E3FC;\n",
              "    }\n",
              "\n",
              "    [theme=dark] .colab-df-convert:hover {\n",
              "      background-color: #434B5C;\n",
              "      box-shadow: 0px 1px 3px 1px rgba(0, 0, 0, 0.15);\n",
              "      filter: drop-shadow(0px 1px 2px rgba(0, 0, 0, 0.3));\n",
              "      fill: #FFFFFF;\n",
              "    }\n",
              "  </style>\n",
              "\n",
              "      <script>\n",
              "        const buttonEl =\n",
              "          document.querySelector('#df-cd31f40c-c468-4419-98ab-f312bc90f223 button.colab-df-convert');\n",
              "        buttonEl.style.display =\n",
              "          google.colab.kernel.accessAllowed ? 'block' : 'none';\n",
              "\n",
              "        async function convertToInteractive(key) {\n",
              "          const element = document.querySelector('#df-cd31f40c-c468-4419-98ab-f312bc90f223');\n",
              "          const dataTable =\n",
              "            await google.colab.kernel.invokeFunction('convertToInteractive',\n",
              "                                                     [key], {});\n",
              "          if (!dataTable) return;\n",
              "\n",
              "          const docLinkHtml = 'Like what you see? Visit the ' +\n",
              "            '<a target=\"_blank\" href=https://colab.research.google.com/notebooks/data_table.ipynb>data table notebook</a>'\n",
              "            + ' to learn more about interactive tables.';\n",
              "          element.innerHTML = '';\n",
              "          dataTable['output_type'] = 'display_data';\n",
              "          await google.colab.output.renderOutput(dataTable, element);\n",
              "          const docLink = document.createElement('div');\n",
              "          docLink.innerHTML = docLinkHtml;\n",
              "          element.appendChild(docLink);\n",
              "        }\n",
              "      </script>\n",
              "    </div>\n",
              "  </div>\n",
              "  "
            ]
          },
          "metadata": {},
          "execution_count": 91
        }
      ]
    },
    {
      "cell_type": "code",
      "source": [
        "paramos.columns"
      ],
      "metadata": {
        "colab": {
          "base_uri": "https://localhost:8080/"
        },
        "id": "SLh_EThXRsNd",
        "outputId": "cdce1f25-e315-46b1-98b9-b8a95faf0f54"
      },
      "execution_count": null,
      "outputs": [
        {
          "output_type": "execute_result",
          "data": {
            "text/plain": [
              "Index(['Id', 'Nombre', 'Escala', 'Acto_Admin', 'Fecha_Acto', 'No_Poligon',\n",
              "       'Fuente', 'Area_Ha', 'Fecha_Ingr', 'Fecha_Reco', 'Shape_Leng',\n",
              "       'Shape_Le_1', 'Shape_Area', 'geometry'],\n",
              "      dtype='object')"
            ]
          },
          "metadata": {},
          "execution_count": 105
        }
      ]
    },
    {
      "cell_type": "code",
      "source": [
        "paramos.shape"
      ],
      "metadata": {
        "colab": {
          "base_uri": "https://localhost:8080/"
        },
        "id": "Pbjv4DUsHGPm",
        "outputId": "71658f8b-1b6e-48e4-b09a-99410b72861e"
      },
      "execution_count": null,
      "outputs": [
        {
          "output_type": "execute_result",
          "data": {
            "text/plain": [
              "(2, 14)"
            ]
          },
          "metadata": {},
          "execution_count": 89
        }
      ]
    },
    {
      "cell_type": "code",
      "source": [
        "paramos.describe()"
      ],
      "metadata": {
        "colab": {
          "base_uri": "https://localhost:8080/",
          "height": 300
        },
        "id": "fvIOpT49Qt4H",
        "outputId": "f4d14ed8-af88-496b-e0b4-c0a1b5c30e26"
      },
      "execution_count": null,
      "outputs": [
        {
          "output_type": "execute_result",
          "data": {
            "text/plain": [
              "       No_Poligon       Area_Ha  Shape_Leng     Shape_Le_1    Shape_Area\n",
              "count         2.0      2.000000    2.000000       2.000000  2.000000e+00\n",
              "mean          0.0   8535.168764    1.246338  138506.790292  8.542972e+07\n",
              "std           0.0  10736.258407    1.382214  153637.131137  1.074625e+08\n",
              "min           0.0    943.487640    0.268966   29868.933022  9.442241e+06\n",
              "25%           0.0   4739.328202    0.757652   84187.861657  4.743598e+07\n",
              "50%           0.0   8535.168764    1.246338  138506.790292  8.542972e+07\n",
              "75%           0.0  12331.009326    1.735025  192825.718926  1.234235e+08\n",
              "max           0.0  16126.849888    2.223711  247144.647561  1.614172e+08"
            ],
            "text/html": [
              "\n",
              "  <div id=\"df-dbc829d6-c275-43e7-95a3-98cd6dedf0b1\">\n",
              "    <div class=\"colab-df-container\">\n",
              "      <div>\n",
              "<style scoped>\n",
              "    .dataframe tbody tr th:only-of-type {\n",
              "        vertical-align: middle;\n",
              "    }\n",
              "\n",
              "    .dataframe tbody tr th {\n",
              "        vertical-align: top;\n",
              "    }\n",
              "\n",
              "    .dataframe thead th {\n",
              "        text-align: right;\n",
              "    }\n",
              "</style>\n",
              "<table border=\"1\" class=\"dataframe\">\n",
              "  <thead>\n",
              "    <tr style=\"text-align: right;\">\n",
              "      <th></th>\n",
              "      <th>No_Poligon</th>\n",
              "      <th>Area_Ha</th>\n",
              "      <th>Shape_Leng</th>\n",
              "      <th>Shape_Le_1</th>\n",
              "      <th>Shape_Area</th>\n",
              "    </tr>\n",
              "  </thead>\n",
              "  <tbody>\n",
              "    <tr>\n",
              "      <th>count</th>\n",
              "      <td>2.0</td>\n",
              "      <td>2.000000</td>\n",
              "      <td>2.000000</td>\n",
              "      <td>2.000000</td>\n",
              "      <td>2.000000e+00</td>\n",
              "    </tr>\n",
              "    <tr>\n",
              "      <th>mean</th>\n",
              "      <td>0.0</td>\n",
              "      <td>8535.168764</td>\n",
              "      <td>1.246338</td>\n",
              "      <td>138506.790292</td>\n",
              "      <td>8.542972e+07</td>\n",
              "    </tr>\n",
              "    <tr>\n",
              "      <th>std</th>\n",
              "      <td>0.0</td>\n",
              "      <td>10736.258407</td>\n",
              "      <td>1.382214</td>\n",
              "      <td>153637.131137</td>\n",
              "      <td>1.074625e+08</td>\n",
              "    </tr>\n",
              "    <tr>\n",
              "      <th>min</th>\n",
              "      <td>0.0</td>\n",
              "      <td>943.487640</td>\n",
              "      <td>0.268966</td>\n",
              "      <td>29868.933022</td>\n",
              "      <td>9.442241e+06</td>\n",
              "    </tr>\n",
              "    <tr>\n",
              "      <th>25%</th>\n",
              "      <td>0.0</td>\n",
              "      <td>4739.328202</td>\n",
              "      <td>0.757652</td>\n",
              "      <td>84187.861657</td>\n",
              "      <td>4.743598e+07</td>\n",
              "    </tr>\n",
              "    <tr>\n",
              "      <th>50%</th>\n",
              "      <td>0.0</td>\n",
              "      <td>8535.168764</td>\n",
              "      <td>1.246338</td>\n",
              "      <td>138506.790292</td>\n",
              "      <td>8.542972e+07</td>\n",
              "    </tr>\n",
              "    <tr>\n",
              "      <th>75%</th>\n",
              "      <td>0.0</td>\n",
              "      <td>12331.009326</td>\n",
              "      <td>1.735025</td>\n",
              "      <td>192825.718926</td>\n",
              "      <td>1.234235e+08</td>\n",
              "    </tr>\n",
              "    <tr>\n",
              "      <th>max</th>\n",
              "      <td>0.0</td>\n",
              "      <td>16126.849888</td>\n",
              "      <td>2.223711</td>\n",
              "      <td>247144.647561</td>\n",
              "      <td>1.614172e+08</td>\n",
              "    </tr>\n",
              "  </tbody>\n",
              "</table>\n",
              "</div>\n",
              "      <button class=\"colab-df-convert\" onclick=\"convertToInteractive('df-dbc829d6-c275-43e7-95a3-98cd6dedf0b1')\"\n",
              "              title=\"Convert this dataframe to an interactive table.\"\n",
              "              style=\"display:none;\">\n",
              "        \n",
              "  <svg xmlns=\"http://www.w3.org/2000/svg\" height=\"24px\"viewBox=\"0 0 24 24\"\n",
              "       width=\"24px\">\n",
              "    <path d=\"M0 0h24v24H0V0z\" fill=\"none\"/>\n",
              "    <path d=\"M18.56 5.44l.94 2.06.94-2.06 2.06-.94-2.06-.94-.94-2.06-.94 2.06-2.06.94zm-11 1L8.5 8.5l.94-2.06 2.06-.94-2.06-.94L8.5 2.5l-.94 2.06-2.06.94zm10 10l.94 2.06.94-2.06 2.06-.94-2.06-.94-.94-2.06-.94 2.06-2.06.94z\"/><path d=\"M17.41 7.96l-1.37-1.37c-.4-.4-.92-.59-1.43-.59-.52 0-1.04.2-1.43.59L10.3 9.45l-7.72 7.72c-.78.78-.78 2.05 0 2.83L4 21.41c.39.39.9.59 1.41.59.51 0 1.02-.2 1.41-.59l7.78-7.78 2.81-2.81c.8-.78.8-2.07 0-2.86zM5.41 20L4 18.59l7.72-7.72 1.47 1.35L5.41 20z\"/>\n",
              "  </svg>\n",
              "      </button>\n",
              "      \n",
              "  <style>\n",
              "    .colab-df-container {\n",
              "      display:flex;\n",
              "      flex-wrap:wrap;\n",
              "      gap: 12px;\n",
              "    }\n",
              "\n",
              "    .colab-df-convert {\n",
              "      background-color: #E8F0FE;\n",
              "      border: none;\n",
              "      border-radius: 50%;\n",
              "      cursor: pointer;\n",
              "      display: none;\n",
              "      fill: #1967D2;\n",
              "      height: 32px;\n",
              "      padding: 0 0 0 0;\n",
              "      width: 32px;\n",
              "    }\n",
              "\n",
              "    .colab-df-convert:hover {\n",
              "      background-color: #E2EBFA;\n",
              "      box-shadow: 0px 1px 2px rgba(60, 64, 67, 0.3), 0px 1px 3px 1px rgba(60, 64, 67, 0.15);\n",
              "      fill: #174EA6;\n",
              "    }\n",
              "\n",
              "    [theme=dark] .colab-df-convert {\n",
              "      background-color: #3B4455;\n",
              "      fill: #D2E3FC;\n",
              "    }\n",
              "\n",
              "    [theme=dark] .colab-df-convert:hover {\n",
              "      background-color: #434B5C;\n",
              "      box-shadow: 0px 1px 3px 1px rgba(0, 0, 0, 0.15);\n",
              "      filter: drop-shadow(0px 1px 2px rgba(0, 0, 0, 0.3));\n",
              "      fill: #FFFFFF;\n",
              "    }\n",
              "  </style>\n",
              "\n",
              "      <script>\n",
              "        const buttonEl =\n",
              "          document.querySelector('#df-dbc829d6-c275-43e7-95a3-98cd6dedf0b1 button.colab-df-convert');\n",
              "        buttonEl.style.display =\n",
              "          google.colab.kernel.accessAllowed ? 'block' : 'none';\n",
              "\n",
              "        async function convertToInteractive(key) {\n",
              "          const element = document.querySelector('#df-dbc829d6-c275-43e7-95a3-98cd6dedf0b1');\n",
              "          const dataTable =\n",
              "            await google.colab.kernel.invokeFunction('convertToInteractive',\n",
              "                                                     [key], {});\n",
              "          if (!dataTable) return;\n",
              "\n",
              "          const docLinkHtml = 'Like what you see? Visit the ' +\n",
              "            '<a target=\"_blank\" href=https://colab.research.google.com/notebooks/data_table.ipynb>data table notebook</a>'\n",
              "            + ' to learn more about interactive tables.';\n",
              "          element.innerHTML = '';\n",
              "          dataTable['output_type'] = 'display_data';\n",
              "          await google.colab.output.renderOutput(dataTable, element);\n",
              "          const docLink = document.createElement('div');\n",
              "          docLink.innerHTML = docLinkHtml;\n",
              "          element.appendChild(docLink);\n",
              "        }\n",
              "      </script>\n",
              "    </div>\n",
              "  </div>\n",
              "  "
            ]
          },
          "metadata": {},
          "execution_count": 90
        }
      ]
    },
    {
      "cell_type": "code",
      "source": [
        "paramos.info()"
      ],
      "metadata": {
        "colab": {
          "base_uri": "https://localhost:8080/"
        },
        "id": "qaRRPhAJQ3wW",
        "outputId": "f160471f-1feb-4daf-c73c-8abbd1cd3e05"
      },
      "execution_count": null,
      "outputs": [
        {
          "output_type": "stream",
          "name": "stdout",
          "text": [
            "<class 'geopandas.geodataframe.GeoDataFrame'>\n",
            "RangeIndex: 2 entries, 0 to 1\n",
            "Data columns (total 14 columns):\n",
            " #   Column      Non-Null Count  Dtype   \n",
            "---  ------      --------------  -----   \n",
            " 0   Id          2 non-null      object  \n",
            " 1   Nombre      2 non-null      object  \n",
            " 2   Escala      2 non-null      object  \n",
            " 3   Acto_Admin  2 non-null      object  \n",
            " 4   Fecha_Acto  2 non-null      object  \n",
            " 5   No_Poligon  2 non-null      float64 \n",
            " 6   Fuente      2 non-null      object  \n",
            " 7   Area_Ha     2 non-null      float64 \n",
            " 8   Fecha_Ingr  2 non-null      object  \n",
            " 9   Fecha_Reco  2 non-null      object  \n",
            " 10  Shape_Leng  2 non-null      float64 \n",
            " 11  Shape_Le_1  2 non-null      float64 \n",
            " 12  Shape_Area  2 non-null      float64 \n",
            " 13  geometry    2 non-null      geometry\n",
            "dtypes: float64(5), geometry(1), object(8)\n",
            "memory usage: 352.0+ bytes\n"
          ]
        }
      ]
    },
    {
      "cell_type": "code",
      "source": [
        "paramos.isna().sum()"
      ],
      "metadata": {
        "colab": {
          "base_uri": "https://localhost:8080/"
        },
        "id": "ZMeVLgIlRJ5u",
        "outputId": "882ee8d2-34ea-488d-b685-9097b33b4f16"
      },
      "execution_count": null,
      "outputs": [
        {
          "output_type": "execute_result",
          "data": {
            "text/plain": [
              "Id            0\n",
              "Nombre        0\n",
              "Escala        0\n",
              "Acto_Admin    0\n",
              "Fecha_Acto    0\n",
              "No_Poligon    0\n",
              "Fuente        0\n",
              "Area_Ha       0\n",
              "Fecha_Ingr    0\n",
              "Fecha_Reco    0\n",
              "Shape_Leng    0\n",
              "Shape_Le_1    0\n",
              "Shape_Area    0\n",
              "geometry      0\n",
              "dtype: int64"
            ]
          },
          "metadata": {},
          "execution_count": 93
        }
      ]
    },
    {
      "cell_type": "markdown",
      "source": [
        "#Clip de todas las capas nacionales de acuerdo al buffer del municipio "
      ],
      "metadata": {
        "id": "sla-nGgdG_9X"
      }
    },
    {
      "cell_type": "code",
      "source": [
        "from geopandas import GeoSeries"
      ],
      "metadata": {
        "id": "xWua4iVzWMmV"
      },
      "execution_count": null,
      "outputs": []
    },
    {
      "cell_type": "code",
      "source": [
        "import folium"
      ],
      "metadata": {
        "id": "zfHq7R47Xmrw"
      },
      "execution_count": null,
      "outputs": []
    },
    {
      "cell_type": "code",
      "source": [
        "distance=25"
      ],
      "metadata": {
        "id": "rgnR7ch1WZn7"
      },
      "execution_count": null,
      "outputs": []
    },
    {
      "cell_type": "code",
      "source": [
        "paramos.buffer(0.2)"
      ],
      "metadata": {
        "colab": {
          "base_uri": "https://localhost:8080/"
        },
        "id": "Tcn0ZWkzVrrs",
        "outputId": "3e1b9bdf-1f78-4dea-96c1-4040f07a45fe"
      },
      "execution_count": null,
      "outputs": [
        {
          "output_type": "execute_result",
          "data": {
            "text/plain": [
              "0    POLYGON ((4538999.229 1820813.990, 4538999.229...\n",
              "1    MULTIPOLYGON (((4519856.009 1800139.941, 45198...\n",
              "dtype: geometry"
            ]
          },
          "metadata": {},
          "execution_count": 34
        }
      ]
    },
    {
      "cell_type": "code",
      "source": [
        "paramos_argelia=gp.clip(paramos,buffer25m)\n",
        "paramos_argelia.shape"
      ],
      "metadata": {
        "colab": {
          "base_uri": "https://localhost:8080/"
        },
        "id": "EEaR1pAUHgmV",
        "outputId": "a4d3333a-7b69-452b-f25d-c4aa7d209efc"
      },
      "execution_count": null,
      "outputs": [
        {
          "output_type": "execute_result",
          "data": {
            "text/plain": [
              "(2, 14)"
            ]
          },
          "metadata": {},
          "execution_count": 61
        }
      ]
    },
    {
      "cell_type": "code",
      "source": [
        "paramos_argelia.columns"
      ],
      "metadata": {
        "colab": {
          "base_uri": "https://localhost:8080/"
        },
        "id": "uhdaMfQWIB-8",
        "outputId": "37cd95f9-d4e1-4267-9223-245e0a0e9152"
      },
      "execution_count": null,
      "outputs": [
        {
          "output_type": "execute_result",
          "data": {
            "text/plain": [
              "Index(['Id', 'Nombre', 'Escala', 'Acto_Admin', 'Fecha_Acto', 'No_Poligon',\n",
              "       'Fuente', 'Area_Ha', 'Fecha_Ingr', 'Fecha_Reco', 'Shape_Leng',\n",
              "       'Shape_Le_1', 'Shape_Area', 'geometry'],\n",
              "      dtype='object')"
            ]
          },
          "metadata": {},
          "execution_count": 62
        }
      ]
    },
    {
      "cell_type": "code",
      "source": [
        "paramos_argelia.set_crs(epsg=9377,inplace=True)"
      ],
      "metadata": {
        "colab": {
          "base_uri": "https://localhost:8080/",
          "height": 112
        },
        "id": "pUcdZ6g5J7Rs",
        "outputId": "6bc3649b-8e5a-4c18-c3e0-c9c845722ed1"
      },
      "execution_count": null,
      "outputs": [
        {
          "output_type": "execute_result",
          "data": {
            "text/plain": [
              "                                            geometry\n",
              "1  MULTIPOLYGON (((4519868.601 1800157.572, 45198...\n",
              "0  POLYGON ((4538998.931 1820812.044, 4538987.559..."
            ],
            "text/html": [
              "\n",
              "  <div id=\"df-bcb78944-a904-4fde-bcfd-07dcf760e3b7\">\n",
              "    <div class=\"colab-df-container\">\n",
              "      <div>\n",
              "<style scoped>\n",
              "    .dataframe tbody tr th:only-of-type {\n",
              "        vertical-align: middle;\n",
              "    }\n",
              "\n",
              "    .dataframe tbody tr th {\n",
              "        vertical-align: top;\n",
              "    }\n",
              "\n",
              "    .dataframe thead th {\n",
              "        text-align: right;\n",
              "    }\n",
              "</style>\n",
              "<table border=\"1\" class=\"dataframe\">\n",
              "  <thead>\n",
              "    <tr style=\"text-align: right;\">\n",
              "      <th></th>\n",
              "      <th>geometry</th>\n",
              "    </tr>\n",
              "  </thead>\n",
              "  <tbody>\n",
              "    <tr>\n",
              "      <th>1</th>\n",
              "      <td>MULTIPOLYGON (((4519868.601 1800157.572, 45198...</td>\n",
              "    </tr>\n",
              "    <tr>\n",
              "      <th>0</th>\n",
              "      <td>POLYGON ((4538998.931 1820812.044, 4538987.559...</td>\n",
              "    </tr>\n",
              "  </tbody>\n",
              "</table>\n",
              "</div>\n",
              "      <button class=\"colab-df-convert\" onclick=\"convertToInteractive('df-bcb78944-a904-4fde-bcfd-07dcf760e3b7')\"\n",
              "              title=\"Convert this dataframe to an interactive table.\"\n",
              "              style=\"display:none;\">\n",
              "        \n",
              "  <svg xmlns=\"http://www.w3.org/2000/svg\" height=\"24px\"viewBox=\"0 0 24 24\"\n",
              "       width=\"24px\">\n",
              "    <path d=\"M0 0h24v24H0V0z\" fill=\"none\"/>\n",
              "    <path d=\"M18.56 5.44l.94 2.06.94-2.06 2.06-.94-2.06-.94-.94-2.06-.94 2.06-2.06.94zm-11 1L8.5 8.5l.94-2.06 2.06-.94-2.06-.94L8.5 2.5l-.94 2.06-2.06.94zm10 10l.94 2.06.94-2.06 2.06-.94-2.06-.94-.94-2.06-.94 2.06-2.06.94z\"/><path d=\"M17.41 7.96l-1.37-1.37c-.4-.4-.92-.59-1.43-.59-.52 0-1.04.2-1.43.59L10.3 9.45l-7.72 7.72c-.78.78-.78 2.05 0 2.83L4 21.41c.39.39.9.59 1.41.59.51 0 1.02-.2 1.41-.59l7.78-7.78 2.81-2.81c.8-.78.8-2.07 0-2.86zM5.41 20L4 18.59l7.72-7.72 1.47 1.35L5.41 20z\"/>\n",
              "  </svg>\n",
              "      </button>\n",
              "      \n",
              "  <style>\n",
              "    .colab-df-container {\n",
              "      display:flex;\n",
              "      flex-wrap:wrap;\n",
              "      gap: 12px;\n",
              "    }\n",
              "\n",
              "    .colab-df-convert {\n",
              "      background-color: #E8F0FE;\n",
              "      border: none;\n",
              "      border-radius: 50%;\n",
              "      cursor: pointer;\n",
              "      display: none;\n",
              "      fill: #1967D2;\n",
              "      height: 32px;\n",
              "      padding: 0 0 0 0;\n",
              "      width: 32px;\n",
              "    }\n",
              "\n",
              "    .colab-df-convert:hover {\n",
              "      background-color: #E2EBFA;\n",
              "      box-shadow: 0px 1px 2px rgba(60, 64, 67, 0.3), 0px 1px 3px 1px rgba(60, 64, 67, 0.15);\n",
              "      fill: #174EA6;\n",
              "    }\n",
              "\n",
              "    [theme=dark] .colab-df-convert {\n",
              "      background-color: #3B4455;\n",
              "      fill: #D2E3FC;\n",
              "    }\n",
              "\n",
              "    [theme=dark] .colab-df-convert:hover {\n",
              "      background-color: #434B5C;\n",
              "      box-shadow: 0px 1px 3px 1px rgba(0, 0, 0, 0.15);\n",
              "      filter: drop-shadow(0px 1px 2px rgba(0, 0, 0, 0.3));\n",
              "      fill: #FFFFFF;\n",
              "    }\n",
              "  </style>\n",
              "\n",
              "      <script>\n",
              "        const buttonEl =\n",
              "          document.querySelector('#df-bcb78944-a904-4fde-bcfd-07dcf760e3b7 button.colab-df-convert');\n",
              "        buttonEl.style.display =\n",
              "          google.colab.kernel.accessAllowed ? 'block' : 'none';\n",
              "\n",
              "        async function convertToInteractive(key) {\n",
              "          const element = document.querySelector('#df-bcb78944-a904-4fde-bcfd-07dcf760e3b7');\n",
              "          const dataTable =\n",
              "            await google.colab.kernel.invokeFunction('convertToInteractive',\n",
              "                                                     [key], {});\n",
              "          if (!dataTable) return;\n",
              "\n",
              "          const docLinkHtml = 'Like what you see? Visit the ' +\n",
              "            '<a target=\"_blank\" href=https://colab.research.google.com/notebooks/data_table.ipynb>data table notebook</a>'\n",
              "            + ' to learn more about interactive tables.';\n",
              "          element.innerHTML = '';\n",
              "          dataTable['output_type'] = 'display_data';\n",
              "          await google.colab.output.renderOutput(dataTable, element);\n",
              "          const docLink = document.createElement('div');\n",
              "          docLink.innerHTML = docLinkHtml;\n",
              "          element.appendChild(docLink);\n",
              "        }\n",
              "      </script>\n",
              "    </div>\n",
              "  </div>\n",
              "  "
            ]
          },
          "metadata": {},
          "execution_count": 39
        }
      ]
    },
    {
      "cell_type": "markdown",
      "source": [
        "Plots"
      ],
      "metadata": {
        "id": "SjyWVNykJwe1"
      }
    },
    {
      "cell_type": "code",
      "source": [
        "import matplotlib.pyplot as plt"
      ],
      "metadata": {
        "id": "KNIxs4V2IR99"
      },
      "execution_count": null,
      "outputs": []
    },
    {
      "cell_type": "code",
      "source": [
        "paramos_argelia.columns"
      ],
      "metadata": {
        "colab": {
          "base_uri": "https://localhost:8080/"
        },
        "id": "FCefBfgG0MrV",
        "outputId": "dea4328f-8c5f-41f0-c7d9-0c73ca8e57c5"
      },
      "execution_count": null,
      "outputs": [
        {
          "output_type": "execute_result",
          "data": {
            "text/plain": [
              "Index(['Id', 'Nombre', 'Escala', 'Acto_Admin', 'Fecha_Acto', 'No_Poligon',\n",
              "       'Fuente', 'Area_Ha', 'Fecha_Ingr', 'Fecha_Reco', 'Shape_Leng',\n",
              "       'Shape_Le_1', 'Shape_Area', 'geometry'],\n",
              "      dtype='object')"
            ]
          },
          "metadata": {},
          "execution_count": 70
        }
      ]
    },
    {
      "cell_type": "code",
      "source": [
        "fig,ax=plt.subplots(1,1)\n",
        "paramos_argelia.plot(column='Nombre',ax=ax,legend=True, cmap='OrRd',facecolor=\"none\", edgecolor=\"black\");"
      ],
      "metadata": {
        "colab": {
          "base_uri": "https://localhost:8080/",
          "height": 289
        },
        "id": "3cF1GXOdI5ZN",
        "outputId": "ac6a15d7-34e2-4c08-da8b-d122fe412842"
      },
      "execution_count": null,
      "outputs": [
        {
          "output_type": "display_data",
          "data": {
            "text/plain": [
              "<Figure size 432x288 with 1 Axes>"
            ],
            "image/png": "[encoded data removed]"
          },
          "metadata": {
            "needs_background": "light"
          }
        }
      ]
    },
    {
      "cell_type": "markdown",
      "source": [
        "Plotting multiple layers"
      ],
      "metadata": {
        "id": "M6muSYaVXWbV"
      }
    },
    {
      "cell_type": "code",
      "source": [
        "fig,ax=plt.subplots(figsize=(10,8))\n",
        "paramos.plot(ax=ax,cmap='hsv')\n",
        "Amb_humedal.plot(ax=ax,cmap='Accent',label='humedal')\n",
        "Amb_RAMSAR.plot(ax=ax,cmap='black')\n",
        "Amb_RUNAP.plot(ax=ax,cmap='Greens')\n",
        "Amb_reservas_ley2.plot(ax=ax,cmap='Dark2')"
      ],
      "metadata": {
        "colab": {
          "base_uri": "https://localhost:8080/",
          "height": 579
        },
        "id": "moa7jgL0YVqo",
        "outputId": "596b851a-ce41-4ce1-9d2f-63b48735de97"
      },
      "execution_count": null,
      "outputs": [
        {
          "output_type": "stream",
          "name": "stderr",
          "text": [
            "/usr/local/lib/python3.9/dist-packages/geopandas/plotting.py:693: UserWarning: The GeoDataFrame you are attempting to plot is empty. Nothing has been displayed.\n",
            "  warnings.warn(\n"
          ]
        },
        {
          "output_type": "execute_result",
          "data": {
            "text/plain": [
              "<Axes: >"
            ]
          },
          "metadata": {},
          "execution_count": 117
        },
        {
          "output_type": "display_data",
          "data": {
            "text/plain": [
              "<Figure size 720x576 with 1 Axes>"
            ],
            "image/png": "[encoded data removed]"
          },
          "metadata": {
            "needs_background": "light"
          }
        }
      ]
    },
    {
      "cell_type": "markdown",
      "source": [
        "Exportar a maquina el corte de todos los shapes por municipio "
      ],
      "metadata": {
        "id": "p8c9CQ7vz56l"
      }
    },
    {
      "cell_type": "code",
      "source": [
        "#paramos_argelia.to_file('C:\\Users\\tdavi\\OneDrive\\Documents\\proyecto_Automata_Cauca\\Insumos_shape_cortes_Cauca\\vectores_zonas_estudio_origen_nacional\\Argelia\\paramos_argelia.shp')"
      ],
      "metadata": {
        "id": "aVAAmsr8KyIM"
      },
      "execution_count": null,
      "outputs": []
    },
    {
      "cell_type": "markdown",
      "source": [
        "#Lectura y descarga de Raster"
      ],
      "metadata": {
        "id": "pK-w8v2SPuKT"
      }
    },
    {
      "cell_type": "code",
      "source": [
        "from osgeo import gdal,ogr,osr"
      ],
      "metadata": {
        "id": "mtBatgoSzB4O"
      },
      "execution_count": null,
      "outputs": []
    },
    {
      "cell_type": "code",
      "source": [
        "Argelia_Mask=gdal.Open(\"/content/drive/MyDrive/Argelia/Argelia_mask.geotiff\")"
      ],
      "metadata": {
        "id": "rljs-uq1J4F4"
      },
      "execution_count": null,
      "outputs": []
    },
    {
      "cell_type": "code",
      "source": [
        "print(Argelia_Mask)"
      ],
      "metadata": {
        "colab": {
          "base_uri": "https://localhost:8080/"
        },
        "id": "zVOY146aOoHC",
        "outputId": "6d2789eb-6db7-474a-bea1-3c7dc0a1376d"
      },
      "execution_count": null,
      "outputs": [
        {
          "output_type": "stream",
          "name": "stdout",
          "text": [
            "None\n"
          ]
        }
      ]
    },
    {
      "cell_type": "markdown",
      "source": [],
      "metadata": {
        "id": "OVxu1T6WPvoo"
      }
    },
    {
      "cell_type": "markdown",
      "source": [
        "#Transformación formato shape/tif"
      ],
      "metadata": {
        "id": "FTrtpv2LJ2OM"
      }
    },
    {
      "cell_type": "code",
      "source": [
        "ensayo=gdal_rasterize(1 -burn paramos_argelia.shp paramos_argelia.tif)\n",
        "#(Output, [1],paramos_argelia, options = ['ATTRIBUTE=Id'])"
      ],
      "metadata": {
        "id": "rdDztKAX01Ft",
        "colab": {
          "base_uri": "https://localhost:8080/",
          "height": 130
        },
        "outputId": "c6eeeb2f-f03b-48fb-e0ce-c277afa0ee60"
      },
      "execution_count": null,
      "outputs": [
        {
          "output_type": "error",
          "ename": "SyntaxError",
          "evalue": "ignored",
          "traceback": [
            "\u001b[0;36m  File \u001b[0;32m\"<ipython-input-68-51af8eaf5d73>\"\u001b[0;36m, line \u001b[0;32m1\u001b[0m\n\u001b[0;31m    ensayo=gdal_rasterize(1 -burn paramos_argelia.shp paramos_argelia.tif)\u001b[0m\n\u001b[0m                                  ^\u001b[0m\n\u001b[0;31mSyntaxError\u001b[0m\u001b[0;31m:\u001b[0m invalid syntax\n"
          ]
        }
      ]
    },
    {
      "cell_type": "markdown",
      "source": [
        "#Calculo de distancias (Euclidiana/Geodesic)"
      ],
      "metadata": {
        "id": "wSU95rf1PznR"
      }
    },
    {
      "cell_type": "code",
      "source": [],
      "metadata": {
        "id": "aVzuvOEsPzPz"
      },
      "execution_count": null,
      "outputs": []
    }
  ]
}